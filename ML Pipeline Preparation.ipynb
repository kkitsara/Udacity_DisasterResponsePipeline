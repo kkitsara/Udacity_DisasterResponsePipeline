{
 "cells": [
  {
   "cell_type": "markdown",
   "metadata": {},
   "source": [
    "# ML Pipeline Preparation\n",
    "Follow the instructions below to help you create your ML pipeline.\n",
    "### 1. Import libraries and load data from database.\n",
    "- Import Python libraries\n",
    "- Load dataset from database with [`read_sql_table`](https://pandas.pydata.org/pandas-docs/stable/generated/pandas.read_sql_table.html)\n",
    "- Define feature and target variables X and Y"
   ]
  },
  {
   "cell_type": "code",
   "execution_count": 1,
   "metadata": {},
   "outputs": [
    {
     "name": "stdout",
     "output_type": "stream",
     "text": [
      "[nltk_data] Downloading package punkt to /root/nltk_data...\n",
      "[nltk_data]   Unzipping tokenizers/punkt.zip.\n",
      "[nltk_data] Downloading package stopwords to /root/nltk_data...\n",
      "[nltk_data]   Unzipping corpora/stopwords.zip.\n",
      "[nltk_data] Downloading package words to /root/nltk_data...\n",
      "[nltk_data]   Unzipping corpora/words.zip.\n",
      "[nltk_data] Downloading package averaged_perceptron_tagger to\n",
      "[nltk_data]     /root/nltk_data...\n",
      "[nltk_data]   Unzipping taggers/averaged_perceptron_tagger.zip.\n",
      "[nltk_data] Downloading package maxent_ne_chunker to\n",
      "[nltk_data]     /root/nltk_data...\n",
      "[nltk_data]   Unzipping chunkers/maxent_ne_chunker.zip.\n",
      "[nltk_data] Downloading package wordnet to /root/nltk_data...\n",
      "[nltk_data]   Unzipping corpora/wordnet.zip.\n"
     ]
    }
   ],
   "source": [
    "# import libraries\n",
    "import nltk\n",
    "import re\n",
    "nltk.download('punkt')\n",
    "nltk.download('stopwords')\n",
    "nltk.download('words')\n",
    "nltk.download('averaged_perceptron_tagger')\n",
    "nltk.download('maxent_ne_chunker')\n",
    "nltk.download('wordnet')\n",
    "import pandas as pd\n",
    "import numpy as np\n",
    "import string\n",
    "from nltk import pos_tag, ne_chunk\n",
    "from sqlalchemy import create_engine\n",
    "from nltk.tokenize import word_tokenize\n",
    "from nltk.corpus import stopwords\n",
    "from nltk.stem.porter import PorterStemmer\n",
    "from nltk.stem.wordnet import WordNetLemmatizer\n",
    "from sklearn.feature_extraction.text import CountVectorizer, TfidfTransformer\n",
    "from sklearn.ensemble import RandomForestClassifier\n",
    "from sklearn.pipeline import Pipeline\n",
    "from sklearn.model_selection import train_test_split\n",
    "from sklearn.metrics import confusion_matrix\n",
    "from sklearn.datasets import make_multilabel_classification\n",
    "from sklearn.multioutput import MultiOutputClassifier\n",
    "from sklearn.neighbors import KNeighborsClassifier\n",
    "from sklearn.metrics import classification_report\n",
    "from sklearn.model_selection import GridSearchCV\n",
    "import pickle"
   ]
  },
  {
   "cell_type": "code",
   "execution_count": 4,
   "metadata": {},
   "outputs": [],
   "source": [
    "# load data from database\n",
    "engine = create_engine('sqlite:///messages.db')\n",
    "df = pd.read_sql_table('clean_messages', engine) \n",
    "df = df[df['related']!=2]\n",
    "X = df['message']\n",
    "y = df.drop(['id','message','original','genre'],axis=1)"
   ]
  },
  {
   "cell_type": "code",
   "execution_count": 5,
   "metadata": {},
   "outputs": [
    {
     "data": {
      "text/plain": [
       "((26028,), (26028, 36))"
      ]
     },
     "execution_count": 5,
     "metadata": {},
     "output_type": "execute_result"
    }
   ],
   "source": [
    "X.shape, y.shape"
   ]
  },
  {
   "cell_type": "markdown",
   "metadata": {},
   "source": [
    "### 2. Write a tokenization function to process your text data"
   ]
  },
  {
   "cell_type": "code",
   "execution_count": 6,
   "metadata": {},
   "outputs": [
    {
     "name": "stdout",
     "output_type": "stream",
     "text": [
      "['weather', 'update', 'cold', 'front', 'cuba', 'could', 'pass', 'haiti']\n",
      "['hurricane']\n",
      "['bangkok', '24', 'january', '2012', 'nnt', 'prime', 'minister', 'yingluck', 'shinawatra', 'attended', 'meeting', 'permanent', 'secretaries', 'various', 'ministries', 'urging', 'quickly', 'distribute', 'flood', 'compensations', 'wisely', 'utilize', 'budgets']\n"
     ]
    }
   ],
   "source": [
    "def tokenize(text):\n",
    "    #remove punctuation characters\n",
    "    text = text.translate(str.maketrans('', '', string.punctuation))\n",
    "    #lemmatize, convert to lowercase, remove leading/trailing white space\n",
    "    lemmatizer = WordNetLemmatizer()\n",
    "    text = lemmatizer.lemmatize(text).lower().strip()\n",
    "    #tokenize\n",
    "    words = word_tokenize(text)\n",
    "    #stop words removal\n",
    "    words = [w for w in words if w not in stopwords.words(\"english\")]\n",
    "    clean_tokens = []\n",
    "    for tok in words:\n",
    "        clean_tokens.append(tok)\n",
    "    return clean_tokens\n",
    "\n",
    "print(tokenize(X[0]))\n",
    "print(tokenize(X[1]))\n",
    "print(tokenize(X[26203]))"
   ]
  },
  {
   "cell_type": "markdown",
   "metadata": {},
   "source": [
    "### 3. Build a machine learning pipeline\n",
    "This machine pipeline should take in the `message` column as input and output classification results on the other 36 categories in the dataset. You may find the [MultiOutputClassifier](http://scikit-learn.org/stable/modules/generated/sklearn.multioutput.MultiOutputClassifier.html) helpful for predicting multiple target variables."
   ]
  },
  {
   "cell_type": "code",
   "execution_count": 7,
   "metadata": {},
   "outputs": [],
   "source": [
    "pipeline = Pipeline([('vect',CountVectorizer(tokenizer=tokenize)),\n",
    "                     ('tfidf',TfidfTransformer()),\n",
    "                     ('clf',MultiOutputClassifier(RandomForestClassifier())),\n",
    "                    ])"
   ]
  },
  {
   "cell_type": "markdown",
   "metadata": {},
   "source": [
    "### 4. Train pipeline\n",
    "- Split data into train and test sets\n",
    "- Train pipeline"
   ]
  },
  {
   "cell_type": "code",
   "execution_count": 8,
   "metadata": {},
   "outputs": [],
   "source": [
    "X_train, X_test, y_train, y_test = train_test_split(X, y)\n",
    "#train\n",
    "pipeline.fit(X_train,y_train)\n",
    "#predict on test data\n",
    "y_pred = pipeline.predict(X_test)"
   ]
  },
  {
   "cell_type": "code",
   "execution_count": 9,
   "metadata": {},
   "outputs": [
    {
     "name": "stdout",
     "output_type": "stream",
     "text": [
      "[[0 0 0 ..., 0 0 0]\n",
      " [1 0 0 ..., 0 0 0]\n",
      " [0 0 0 ..., 0 0 0]\n",
      " ..., \n",
      " [0 0 0 ..., 0 0 0]\n",
      " [1 0 0 ..., 0 0 0]\n",
      " [1 0 0 ..., 0 0 0]]\n"
     ]
    }
   ],
   "source": [
    "print(y_pred)"
   ]
  },
  {
   "cell_type": "code",
   "execution_count": 10,
   "metadata": {},
   "outputs": [],
   "source": [
    "y_pred_columns = y_test.columns\n",
    "y_pred = pd.DataFrame(y_pred, columns = y_pred_columns)"
   ]
  },
  {
   "cell_type": "markdown",
   "metadata": {},
   "source": [
    "### 5. Test your model\n",
    "Report the f1 score, precision and recall for each output category of the dataset. You can do this by iterating through the columns and calling sklearn's `classification_report` on each."
   ]
  },
  {
   "cell_type": "code",
   "execution_count": 11,
   "metadata": {},
   "outputs": [
    {
     "name": "stdout",
     "output_type": "stream",
     "text": [
      "                        precision    recall  f1-score   support\n",
      "\n",
      "               related       0.84      0.91      0.87      4967\n",
      "               request       0.81      0.45      0.58      1136\n",
      "                 offer       0.00      0.00      0.00        37\n",
      "           aid_related       0.73      0.60      0.66      2661\n",
      "          medical_help       0.47      0.10      0.16       509\n",
      "      medical_products       1.00      0.07      0.13       318\n",
      "     search_and_rescue       0.47      0.04      0.08       168\n",
      "              security       0.00      0.00      0.00       103\n",
      "              military       0.67      0.09      0.16       217\n",
      "           child_alone       0.00      0.00      0.00         0\n",
      "                 water       0.82      0.27      0.41       402\n",
      "                  food       0.86      0.46      0.60       736\n",
      "               shelter       0.81      0.35      0.49       572\n",
      "              clothing       0.71      0.05      0.10        97\n",
      "                 money       1.00      0.04      0.07       142\n",
      "        missing_people       0.00      0.00      0.00        68\n",
      "              refugees       0.57      0.14      0.22       210\n",
      "                 death       0.74      0.16      0.26       290\n",
      "             other_aid       0.54      0.06      0.11       834\n",
      "infrastructure_related       0.00      0.00      0.00       414\n",
      "             transport       0.75      0.08      0.15       298\n",
      "             buildings       0.61      0.14      0.23       322\n",
      "           electricity       0.73      0.07      0.12       120\n",
      "                 tools       0.00      0.00      0.00        32\n",
      "             hospitals       0.00      0.00      0.00        77\n",
      "                 shops       0.00      0.00      0.00        31\n",
      "           aid_centers       0.00      0.00      0.00        64\n",
      "  other_infrastructure       0.11      0.00      0.01       285\n",
      "       weather_related       0.83      0.61      0.71      1772\n",
      "                floods       0.90      0.36      0.52       524\n",
      "                 storm       0.77      0.39      0.52       582\n",
      "                  fire       1.00      0.01      0.03        67\n",
      "            earthquake       0.87      0.72      0.79       585\n",
      "                  cold       0.64      0.07      0.13       121\n",
      "         other_weather       0.57      0.04      0.07       355\n",
      "         direct_report       0.76      0.35      0.48      1271\n",
      "\n",
      "           avg / total       0.74      0.49      0.55     20387\n",
      "\n"
     ]
    },
    {
     "name": "stderr",
     "output_type": "stream",
     "text": [
      "/opt/conda/lib/python3.6/site-packages/sklearn/metrics/classification.py:1135: UndefinedMetricWarning: Precision and F-score are ill-defined and being set to 0.0 in labels with no predicted samples.\n",
      "  'precision', 'predicted', average, warn_for)\n",
      "/opt/conda/lib/python3.6/site-packages/sklearn/metrics/classification.py:1137: UndefinedMetricWarning: Recall and F-score are ill-defined and being set to 0.0 in labels with no true samples.\n",
      "  'recall', 'true', average, warn_for)\n"
     ]
    }
   ],
   "source": [
    "target_names = y_test.columns\n",
    "print(classification_report(y_test, y_pred, target_names=target_names))"
   ]
  },
  {
   "cell_type": "markdown",
   "metadata": {},
   "source": [
    "### 6. Improve your model\n",
    "Use grid search to find better parameters. "
   ]
  },
  {
   "cell_type": "code",
   "execution_count": 12,
   "metadata": {},
   "outputs": [
    {
     "data": {
      "text/plain": [
       "{'memory': None,\n",
       " 'steps': [('vect',\n",
       "   CountVectorizer(analyzer='word', binary=False, decode_error='strict',\n",
       "           dtype=<class 'numpy.int64'>, encoding='utf-8', input='content',\n",
       "           lowercase=True, max_df=1.0, max_features=None, min_df=1,\n",
       "           ngram_range=(1, 1), preprocessor=None, stop_words=None,\n",
       "           strip_accents=None, token_pattern='(?u)\\\\b\\\\w\\\\w+\\\\b',\n",
       "           tokenizer=<function tokenize at 0x7efca4c80378>, vocabulary=None)),\n",
       "  ('tfidf',\n",
       "   TfidfTransformer(norm='l2', smooth_idf=True, sublinear_tf=False, use_idf=True)),\n",
       "  ('clf',\n",
       "   MultiOutputClassifier(estimator=RandomForestClassifier(bootstrap=True, class_weight=None, criterion='gini',\n",
       "               max_depth=None, max_features='auto', max_leaf_nodes=None,\n",
       "               min_impurity_decrease=0.0, min_impurity_split=None,\n",
       "               min_samples_leaf=1, min_samples_split=2,\n",
       "               min_weight_fraction_leaf=0.0, n_estimators=10, n_jobs=1,\n",
       "               oob_score=False, random_state=None, verbose=0,\n",
       "               warm_start=False),\n",
       "              n_jobs=1))],\n",
       " 'vect': CountVectorizer(analyzer='word', binary=False, decode_error='strict',\n",
       "         dtype=<class 'numpy.int64'>, encoding='utf-8', input='content',\n",
       "         lowercase=True, max_df=1.0, max_features=None, min_df=1,\n",
       "         ngram_range=(1, 1), preprocessor=None, stop_words=None,\n",
       "         strip_accents=None, token_pattern='(?u)\\\\b\\\\w\\\\w+\\\\b',\n",
       "         tokenizer=<function tokenize at 0x7efca4c80378>, vocabulary=None),\n",
       " 'tfidf': TfidfTransformer(norm='l2', smooth_idf=True, sublinear_tf=False, use_idf=True),\n",
       " 'clf': MultiOutputClassifier(estimator=RandomForestClassifier(bootstrap=True, class_weight=None, criterion='gini',\n",
       "             max_depth=None, max_features='auto', max_leaf_nodes=None,\n",
       "             min_impurity_decrease=0.0, min_impurity_split=None,\n",
       "             min_samples_leaf=1, min_samples_split=2,\n",
       "             min_weight_fraction_leaf=0.0, n_estimators=10, n_jobs=1,\n",
       "             oob_score=False, random_state=None, verbose=0,\n",
       "             warm_start=False),\n",
       "            n_jobs=1),\n",
       " 'vect__analyzer': 'word',\n",
       " 'vect__binary': False,\n",
       " 'vect__decode_error': 'strict',\n",
       " 'vect__dtype': numpy.int64,\n",
       " 'vect__encoding': 'utf-8',\n",
       " 'vect__input': 'content',\n",
       " 'vect__lowercase': True,\n",
       " 'vect__max_df': 1.0,\n",
       " 'vect__max_features': None,\n",
       " 'vect__min_df': 1,\n",
       " 'vect__ngram_range': (1, 1),\n",
       " 'vect__preprocessor': None,\n",
       " 'vect__stop_words': None,\n",
       " 'vect__strip_accents': None,\n",
       " 'vect__token_pattern': '(?u)\\\\b\\\\w\\\\w+\\\\b',\n",
       " 'vect__tokenizer': <function __main__.tokenize(text)>,\n",
       " 'vect__vocabulary': None,\n",
       " 'tfidf__norm': 'l2',\n",
       " 'tfidf__smooth_idf': True,\n",
       " 'tfidf__sublinear_tf': False,\n",
       " 'tfidf__use_idf': True,\n",
       " 'clf__estimator__bootstrap': True,\n",
       " 'clf__estimator__class_weight': None,\n",
       " 'clf__estimator__criterion': 'gini',\n",
       " 'clf__estimator__max_depth': None,\n",
       " 'clf__estimator__max_features': 'auto',\n",
       " 'clf__estimator__max_leaf_nodes': None,\n",
       " 'clf__estimator__min_impurity_decrease': 0.0,\n",
       " 'clf__estimator__min_impurity_split': None,\n",
       " 'clf__estimator__min_samples_leaf': 1,\n",
       " 'clf__estimator__min_samples_split': 2,\n",
       " 'clf__estimator__min_weight_fraction_leaf': 0.0,\n",
       " 'clf__estimator__n_estimators': 10,\n",
       " 'clf__estimator__n_jobs': 1,\n",
       " 'clf__estimator__oob_score': False,\n",
       " 'clf__estimator__random_state': None,\n",
       " 'clf__estimator__verbose': 0,\n",
       " 'clf__estimator__warm_start': False,\n",
       " 'clf__estimator': RandomForestClassifier(bootstrap=True, class_weight=None, criterion='gini',\n",
       "             max_depth=None, max_features='auto', max_leaf_nodes=None,\n",
       "             min_impurity_decrease=0.0, min_impurity_split=None,\n",
       "             min_samples_leaf=1, min_samples_split=2,\n",
       "             min_weight_fraction_leaf=0.0, n_estimators=10, n_jobs=1,\n",
       "             oob_score=False, random_state=None, verbose=0,\n",
       "             warm_start=False),\n",
       " 'clf__n_jobs': 1}"
      ]
     },
     "execution_count": 12,
     "metadata": {},
     "output_type": "execute_result"
    }
   ],
   "source": [
    "pipeline.get_params()"
   ]
  },
  {
   "cell_type": "code",
   "execution_count": 13,
   "metadata": {},
   "outputs": [
    {
     "data": {
      "text/plain": [
       "GridSearchCV(cv=None, error_score='raise',\n",
       "       estimator=Pipeline(memory=None,\n",
       "     steps=[('vect', CountVectorizer(analyzer='word', binary=False, decode_error='strict',\n",
       "        dtype=<class 'numpy.int64'>, encoding='utf-8', input='content',\n",
       "        lowercase=True, max_df=1.0, max_features=None, min_df=1,\n",
       "        ngram_range=(1, 1), preprocessor=None, stop_words=None,\n",
       "        strip...oob_score=False, random_state=None, verbose=0,\n",
       "            warm_start=False),\n",
       "           n_jobs=1))]),\n",
       "       fit_params=None, iid=True, n_jobs=1,\n",
       "       param_grid={'vect__ngram_range': ((1, 1), (1, 2)), 'clf__estimator__bootstrap': (True, False)},\n",
       "       pre_dispatch='2*n_jobs', refit=True, return_train_score='warn',\n",
       "       scoring=None, verbose=0)"
      ]
     },
     "execution_count": 13,
     "metadata": {},
     "output_type": "execute_result"
    }
   ],
   "source": [
    "parameters = {\n",
    "    'vect__ngram_range': ((1, 1), (1, 2)),\n",
    "    'clf__estimator__bootstrap': (True, False)\n",
    "}\n",
    "\n",
    "cv = GridSearchCV(pipeline, parameters)\n",
    "cv"
   ]
  },
  {
   "cell_type": "markdown",
   "metadata": {},
   "source": [
    "### 7. Test your model\n",
    "Show the accuracy, precision, and recall of the tuned model.  \n",
    "\n",
    "Since this project focuses on code quality, process, and  pipelines, there is no minimum performance metric needed to pass. However, make sure to fine tune your models for accuracy, precision and recall to make your project stand out - especially for your portfolio!"
   ]
  },
  {
   "cell_type": "code",
   "execution_count": 14,
   "metadata": {},
   "outputs": [
    {
     "name": "stdout",
     "output_type": "stream",
     "text": [
      "Fitting 3 folds for each of 4 candidates, totalling 12 fits\n",
      "[CV] clf__estimator__bootstrap=True, vect__ngram_range=(1, 1) ........\n",
      "[CV]  clf__estimator__bootstrap=True, vect__ngram_range=(1, 1), total= 2.0min\n",
      "[CV] clf__estimator__bootstrap=True, vect__ngram_range=(1, 1) ........\n"
     ]
    },
    {
     "name": "stderr",
     "output_type": "stream",
     "text": [
      "[Parallel(n_jobs=1)]: Done   1 out of   1 | elapsed:  2.9min remaining:    0.0s\n"
     ]
    },
    {
     "name": "stdout",
     "output_type": "stream",
     "text": [
      "[CV]  clf__estimator__bootstrap=True, vect__ngram_range=(1, 1), total= 2.1min\n",
      "[CV] clf__estimator__bootstrap=True, vect__ngram_range=(1, 1) ........\n",
      "[CV]  clf__estimator__bootstrap=True, vect__ngram_range=(1, 1), total= 2.0min\n",
      "[CV] clf__estimator__bootstrap=True, vect__ngram_range=(1, 2) ........\n",
      "[CV]  clf__estimator__bootstrap=True, vect__ngram_range=(1, 2), total= 3.0min\n",
      "[CV] clf__estimator__bootstrap=True, vect__ngram_range=(1, 2) ........\n",
      "[CV]  clf__estimator__bootstrap=True, vect__ngram_range=(1, 2), total= 2.9min\n",
      "[CV] clf__estimator__bootstrap=True, vect__ngram_range=(1, 2) ........\n",
      "[CV]  clf__estimator__bootstrap=True, vect__ngram_range=(1, 2), total= 2.9min\n",
      "[CV] clf__estimator__bootstrap=False, vect__ngram_range=(1, 1) .......\n",
      "[CV]  clf__estimator__bootstrap=False, vect__ngram_range=(1, 1), total= 2.4min\n",
      "[CV] clf__estimator__bootstrap=False, vect__ngram_range=(1, 1) .......\n",
      "[CV]  clf__estimator__bootstrap=False, vect__ngram_range=(1, 1), total= 2.4min\n",
      "[CV] clf__estimator__bootstrap=False, vect__ngram_range=(1, 1) .......\n",
      "[CV]  clf__estimator__bootstrap=False, vect__ngram_range=(1, 1), total= 2.4min\n",
      "[CV] clf__estimator__bootstrap=False, vect__ngram_range=(1, 2) .......\n",
      "[CV]  clf__estimator__bootstrap=False, vect__ngram_range=(1, 2), total= 3.9min\n",
      "[CV] clf__estimator__bootstrap=False, vect__ngram_range=(1, 2) .......\n",
      "[CV]  clf__estimator__bootstrap=False, vect__ngram_range=(1, 2), total= 3.8min\n",
      "[CV] clf__estimator__bootstrap=False, vect__ngram_range=(1, 2) .......\n",
      "[CV]  clf__estimator__bootstrap=False, vect__ngram_range=(1, 2), total= 3.8min\n"
     ]
    },
    {
     "name": "stderr",
     "output_type": "stream",
     "text": [
      "[Parallel(n_jobs=1)]: Done  12 out of  12 | elapsed: 45.2min finished\n"
     ]
    }
   ],
   "source": [
    "cv = GridSearchCV(pipeline, param_grid = parameters,verbose = 2)\n",
    "np.random.seed(42)\n",
    "y_pred2 = cv.fit(X_train, y_train)\n",
    "prediction2 = y_pred2.predict(X_test)"
   ]
  },
  {
   "cell_type": "code",
   "execution_count": 15,
   "metadata": {},
   "outputs": [
    {
     "name": "stdout",
     "output_type": "stream",
     "text": [
      "                        precision    recall  f1-score   support\n",
      "\n",
      "               related       0.86      0.87      0.87      4967\n",
      "               request       0.78      0.49      0.60      1136\n",
      "                 offer       0.00      0.00      0.00        37\n",
      "           aid_related       0.73      0.58      0.65      2661\n",
      "          medical_help       0.59      0.11      0.19       509\n",
      "      medical_products       0.61      0.11      0.19       318\n",
      "     search_and_rescue       0.52      0.07      0.13       168\n",
      "              security       0.12      0.01      0.02       103\n",
      "              military       0.51      0.08      0.14       217\n",
      "           child_alone       0.00      0.00      0.00         0\n",
      "                 water       0.83      0.37      0.51       402\n",
      "                  food       0.85      0.50      0.63       736\n",
      "               shelter       0.76      0.30      0.43       572\n",
      "              clothing       0.73      0.16      0.27        97\n",
      "                 money       0.78      0.05      0.09       142\n",
      "        missing_people       1.00      0.04      0.08        68\n",
      "              refugees       0.35      0.05      0.09       210\n",
      "                 death       0.67      0.17      0.27       290\n",
      "             other_aid       0.46      0.08      0.13       834\n",
      "infrastructure_related       0.00      0.00      0.00       414\n",
      "             transport       0.55      0.06      0.10       298\n",
      "             buildings       0.56      0.11      0.19       322\n",
      "           electricity       0.67      0.07      0.12       120\n",
      "                 tools       0.00      0.00      0.00        32\n",
      "             hospitals       0.00      0.00      0.00        77\n",
      "                 shops       0.00      0.00      0.00        31\n",
      "           aid_centers       0.00      0.00      0.00        64\n",
      "  other_infrastructure       0.06      0.00      0.01       285\n",
      "       weather_related       0.80      0.54      0.65      1772\n",
      "                floods       0.86      0.27      0.41       524\n",
      "                 storm       0.76      0.41      0.54       582\n",
      "                  fire       0.64      0.10      0.18        67\n",
      "            earthquake       0.84      0.68      0.75       585\n",
      "                  cold       0.83      0.08      0.15       121\n",
      "         other_weather       0.45      0.10      0.17       355\n",
      "         direct_report       0.70      0.35      0.47      1271\n",
      "\n",
      "           avg / total       0.71      0.48      0.54     20387\n",
      "\n"
     ]
    },
    {
     "name": "stderr",
     "output_type": "stream",
     "text": [
      "/opt/conda/lib/python3.6/site-packages/sklearn/metrics/classification.py:1135: UndefinedMetricWarning: Precision and F-score are ill-defined and being set to 0.0 in labels with no predicted samples.\n",
      "  'precision', 'predicted', average, warn_for)\n",
      "/opt/conda/lib/python3.6/site-packages/sklearn/metrics/classification.py:1137: UndefinedMetricWarning: Recall and F-score are ill-defined and being set to 0.0 in labels with no true samples.\n",
      "  'recall', 'true', average, warn_for)\n"
     ]
    }
   ],
   "source": [
    "print(classification_report(y_test, prediction2 , target_names = target_names))"
   ]
  },
  {
   "cell_type": "markdown",
   "metadata": {},
   "source": [
    "### 8. Try improving your model further. Here are a few ideas:\n",
    "* try other machine learning algorithms\n",
    "* add other features besides the TF-IDF"
   ]
  },
  {
   "cell_type": "code",
   "execution_count": null,
   "metadata": {},
   "outputs": [],
   "source": []
  },
  {
   "cell_type": "markdown",
   "metadata": {},
   "source": [
    "### 9. Export your model as a pickle file"
   ]
  },
  {
   "cell_type": "code",
   "execution_count": null,
   "metadata": {},
   "outputs": [],
   "source": []
  },
  {
   "cell_type": "markdown",
   "metadata": {},
   "source": [
    "### 10. Use this notebook to complete `train.py`\n",
    "Use the template file attached in the Resources folder to write a script that runs the steps above to create a database and export a model based on a new dataset specified by the user."
   ]
  },
  {
   "cell_type": "code",
   "execution_count": null,
   "metadata": {},
   "outputs": [],
   "source": [
    "import sys\n",
    "import nltk\n",
    "import re\n",
    "nltk.download('punkt')\n",
    "nltk.download('stopwords')\n",
    "nltk.download('words')\n",
    "nltk.download('averaged_perceptron_tagger')\n",
    "nltk.download('maxent_ne_chunker')\n",
    "nltk.download('wordnet')\n",
    "import pandas as pd\n",
    "import numpy as np\n",
    "import string\n",
    "from nltk import pos_tag, ne_chunk\n",
    "from sqlalchemy import create_engine\n",
    "from nltk.tokenize import word_tokenize\n",
    "from nltk.corpus import stopwords\n",
    "from nltk.stem.porter import PorterStemmer\n",
    "from nltk.stem.wordnet import WordNetLemmatizer\n",
    "from sklearn.feature_extraction.text import CountVectorizer, TfidfTransformer\n",
    "from sklearn.ensemble import RandomForestClassifier\n",
    "from sklearn.pipeline import Pipeline\n",
    "from sklearn.model_selection import train_test_split\n",
    "from sklearn.metrics import confusion_matrix\n",
    "from sklearn.datasets import make_multilabel_classification\n",
    "from sklearn.multioutput import MultiOutputClassifier\n",
    "from sklearn.neighbors import KNeighborsClassifier\n",
    "from sklearn.metrics import classification_report\n",
    "from sklearn.model_selection import GridSearchCV\n",
    "import pickle\n",
    "\n",
    "\n",
    "def load_data(database_filepath):\n",
    "\n",
    "    engine = create_engine('sqlite:///' + database_filepath)\n",
    "    df = pd.read_sql_table('DisasterResponse', engine) \n",
    "    X = df['message']\n",
    "    y = df.drop(['id','message','original','genre'],axis=1)\n",
    "    category_names = y.columns\n",
    "    \n",
    "    return X, y, category_names\n",
    "\n",
    "\n",
    "def tokenize(text):\n",
    "    #remove punctuation characters\n",
    "    text = text.translate(str.maketrans('', '', string.punctuation))\n",
    "    #lemmatize, convert to lowercase, remove leading/trailing white space\n",
    "    lemmatizer = WordNetLemmatizer()\n",
    "    text = lemmatizer.lemmatize(text).lower().strip()\n",
    "    #tokenize\n",
    "    words = word_tokenize(text)\n",
    "    #stop words removal\n",
    "    words = [w for w in words if w not in stopwords.words(\"english\")]\n",
    "    #Stemming\n",
    "    words = [PorterStemmer().stem(w) for w in words]\n",
    "    clean_tokens = []\n",
    "    for tok in words:\n",
    "        clean_tokens.append(tok)\n",
    "    return clean_tokens\n",
    "\n",
    "\n",
    "def build_model():\n",
    "    pipeline = Pipeline([('vect',CountVectorizer(tokenizer=tokenize)),\n",
    "                     ('tfidf',TfidfTransformer()),\n",
    "                     ('clf',MultiOutputClassifier(RandomForestClassifier())),\n",
    "                    ])\n",
    "    \n",
    "    return pipeline\n",
    "\n",
    "def evaluate_model(model, X_test, Y_test, category_names):\n",
    "    \n",
    "    #predict on test data\n",
    "    y_pred = model.predict(X_test)\n",
    "    \n",
    "    print(classification_report(Y_test, y_pred, target_names=category_names))\n",
    "\n",
    "\n",
    "def save_model(model, model_filepath):\n",
    "    \n",
    "    pickle.dump(model,open(model_filepath,'wb'))\n",
    "\n",
    "\n",
    "def main():\n",
    "    if len(sys.argv) == 3:\n",
    "        database_filepath, model_filepath = sys.argv[1:]\n",
    "        print('Loading data...\\n    DATABASE: {}'.format(database_filepath))\n",
    "        X, Y, category_names = load_data(database_filepath)\n",
    "        X_train, X_test, Y_train, Y_test = train_test_split(X, Y, test_size=0.2)\n",
    "        \n",
    "        print('Building model...')\n",
    "        model = build_model()\n",
    "        \n",
    "        print('Training model...')\n",
    "        model.fit(X_train, Y_train)\n",
    "        \n",
    "        print('Evaluating model...')\n",
    "        evaluate_model(model, X_test, Y_test, category_names)\n",
    "\n",
    "        print('Saving model...\\n    MODEL: {}'.format(model_filepath))\n",
    "        save_model(model, model_filepath)\n",
    "\n",
    "        print('Trained model saved!')\n",
    "\n",
    "    else:\n",
    "        print('Please provide the filepath of the disaster messages database '\\\n",
    "              'as the first argument and the filepath of the pickle file to '\\\n",
    "              'save the model to as the second argument. \\n\\nExample: python '\\\n",
    "              'train_classifier.py ../data/DisasterResponse.db classifier.pkl')\n",
    "\n",
    "\n",
    "if __name__ == '__main__':\n",
    "    main()"
   ]
  }
 ],
 "metadata": {
  "kernelspec": {
   "display_name": "Python 3",
   "language": "python",
   "name": "python3"
  },
  "language_info": {
   "codemirror_mode": {
    "name": "ipython",
    "version": 3
   },
   "file_extension": ".py",
   "mimetype": "text/x-python",
   "name": "python",
   "nbconvert_exporter": "python",
   "pygments_lexer": "ipython3",
   "version": "3.6.3"
  }
 },
 "nbformat": 4,
 "nbformat_minor": 2
}
