{
 "cells": [
  {
   "cell_type": "markdown",
   "metadata": {},
   "source": [
    "# ML Pipeline Preparation\n",
    "Follow the instructions below to help you create your ML pipeline.\n",
    "### 1. Import libraries and load data from database.\n",
    "- Import Python libraries\n",
    "- Load dataset from database with [`read_sql_table`](https://pandas.pydata.org/pandas-docs/stable/generated/pandas.read_sql_table.html)\n",
    "- Define feature and target variables X and Y"
   ]
  },
  {
   "cell_type": "code",
   "execution_count": 1,
   "metadata": {},
   "outputs": [
    {
     "name": "stdout",
     "output_type": "stream",
     "text": [
      "[nltk_data] Downloading package punkt to /root/nltk_data...\n",
      "[nltk_data]   Unzipping tokenizers/punkt.zip.\n",
      "[nltk_data] Downloading package stopwords to /root/nltk_data...\n",
      "[nltk_data]   Unzipping corpora/stopwords.zip.\n",
      "[nltk_data] Downloading package words to /root/nltk_data...\n",
      "[nltk_data]   Unzipping corpora/words.zip.\n",
      "[nltk_data] Downloading package averaged_perceptron_tagger to\n",
      "[nltk_data]     /root/nltk_data...\n",
      "[nltk_data]   Unzipping taggers/averaged_perceptron_tagger.zip.\n",
      "[nltk_data] Downloading package maxent_ne_chunker to\n",
      "[nltk_data]     /root/nltk_data...\n",
      "[nltk_data]   Unzipping chunkers/maxent_ne_chunker.zip.\n",
      "[nltk_data] Downloading package wordnet to /root/nltk_data...\n",
      "[nltk_data]   Unzipping corpora/wordnet.zip.\n"
     ]
    }
   ],
   "source": [
    "# import libraries\n",
    "import nltk\n",
    "import re\n",
    "nltk.download('punkt')\n",
    "nltk.download('stopwords')\n",
    "nltk.download('words')\n",
    "nltk.download('averaged_perceptron_tagger')\n",
    "nltk.download('maxent_ne_chunker')\n",
    "nltk.download('wordnet')\n",
    "import pandas as pd\n",
    "import numpy as np\n",
    "import string\n",
    "from nltk import pos_tag, ne_chunk\n",
    "from sqlalchemy import create_engine\n",
    "from nltk.tokenize import word_tokenize\n",
    "from nltk.corpus import stopwords\n",
    "from nltk.stem.porter import PorterStemmer\n",
    "from nltk.stem.wordnet import WordNetLemmatizer\n",
    "from sklearn.feature_extraction.text import CountVectorizer, TfidfTransformer\n",
    "from sklearn.ensemble import RandomForestClassifier\n",
    "from sklearn.pipeline import Pipeline\n",
    "from sklearn.model_selection import train_test_split\n",
    "from sklearn.metrics import confusion_matrix\n",
    "from sklearn.datasets import make_multilabel_classification\n",
    "from sklearn.multioutput import MultiOutputClassifier\n",
    "from sklearn.neighbors import KNeighborsClassifier\n",
    "from sklearn.metrics import classification_report\n",
    "from sklearn.model_selection import GridSearchCV\n",
    "import pickle"
   ]
  },
  {
   "cell_type": "code",
   "execution_count": 2,
   "metadata": {},
   "outputs": [],
   "source": [
    "# load data from database\n",
    "engine = create_engine('sqlite:///messages.db')\n",
    "df = pd.read_sql_table('clean_messages', engine) \n",
    "df = df[df['related-1']!=2]\n",
    "X = df['message']\n",
    "y = df.drop(['id','message','original','genre'],axis=1)"
   ]
  },
  {
   "cell_type": "code",
   "execution_count": 3,
   "metadata": {},
   "outputs": [
    {
     "data": {
      "text/plain": [
       "((26028,), (26028, 36))"
      ]
     },
     "execution_count": 3,
     "metadata": {},
     "output_type": "execute_result"
    }
   ],
   "source": [
    "X.shape, y.shape"
   ]
  },
  {
   "cell_type": "markdown",
   "metadata": {},
   "source": [
    "### 2. Write a tokenization function to process your text data"
   ]
  },
  {
   "cell_type": "code",
   "execution_count": 4,
   "metadata": {},
   "outputs": [
    {
     "name": "stdout",
     "output_type": "stream",
     "text": [
      "['weather', 'updat', 'cold', 'front', 'cuba', 'could', 'pass', 'haiti']\n",
      "['hurrican']\n",
      "['bangkok', '24', 'januari', '2012', 'nnt', 'prime', 'minist', 'yingluck', 'shinawatra', 'attend', 'meet', 'perman', 'secretari', 'variou', 'ministri', 'urg', 'quickli', 'distribut', 'flood', 'compens', 'wise', 'util', 'budget']\n"
     ]
    }
   ],
   "source": [
    "def tokenize(text):\n",
    "    #remove punctuation characters\n",
    "    text = text.translate(str.maketrans('', '', string.punctuation))\n",
    "    #lemmatize, convert to lowercase, remove leading/trailing white space\n",
    "    lemmatizer = WordNetLemmatizer()\n",
    "    text = lemmatizer.lemmatize(text).lower().strip()\n",
    "    #tokenize\n",
    "    words = word_tokenize(text)\n",
    "    #stop words removal\n",
    "    words = [w for w in words if w not in stopwords.words(\"english\")]\n",
    "    #Stemming\n",
    "    words = [PorterStemmer().stem(w) for w in words]\n",
    "    clean_tokens = []\n",
    "    for tok in words:\n",
    "        clean_tokens.append(tok)\n",
    "    return clean_tokens\n",
    "\n",
    "print(tokenize(X[0]))\n",
    "print(tokenize(X[1]))\n",
    "print(tokenize(X[26203]))"
   ]
  },
  {
   "cell_type": "markdown",
   "metadata": {},
   "source": [
    "### 3. Build a machine learning pipeline\n",
    "This machine pipeline should take in the `message` column as input and output classification results on the other 36 categories in the dataset. You may find the [MultiOutputClassifier](http://scikit-learn.org/stable/modules/generated/sklearn.multioutput.MultiOutputClassifier.html) helpful for predicting multiple target variables."
   ]
  },
  {
   "cell_type": "code",
   "execution_count": 5,
   "metadata": {},
   "outputs": [],
   "source": [
    "pipeline = Pipeline([('vect',CountVectorizer(tokenizer=tokenize)),\n",
    "                     ('tfidf',TfidfTransformer()),\n",
    "                     ('clf',MultiOutputClassifier(RandomForestClassifier())),\n",
    "                    ])"
   ]
  },
  {
   "cell_type": "markdown",
   "metadata": {},
   "source": [
    "### 4. Train pipeline\n",
    "- Split data into train and test sets\n",
    "- Train pipeline"
   ]
  },
  {
   "cell_type": "code",
   "execution_count": 6,
   "metadata": {},
   "outputs": [],
   "source": [
    "X_train, X_test, y_train, y_test = train_test_split(X, y)\n",
    "#train\n",
    "pipeline.fit(X_train,y_train)\n",
    "#predict on test data\n",
    "y_pred = pipeline.predict(X_test)"
   ]
  },
  {
   "cell_type": "code",
   "execution_count": 7,
   "metadata": {},
   "outputs": [
    {
     "name": "stdout",
     "output_type": "stream",
     "text": [
      "[[0 0 0 ..., 0 0 0]\n",
      " [0 0 0 ..., 0 0 0]\n",
      " [1 1 0 ..., 0 0 1]\n",
      " ..., \n",
      " [1 0 0 ..., 0 0 0]\n",
      " [1 0 0 ..., 0 0 0]\n",
      " [1 0 0 ..., 0 0 0]]\n"
     ]
    }
   ],
   "source": [
    "print(y_pred)"
   ]
  },
  {
   "cell_type": "code",
   "execution_count": 8,
   "metadata": {},
   "outputs": [],
   "source": [
    "y_pred_columns = y_test.columns\n",
    "y_pred = pd.DataFrame(y_pred, columns = y_pred_columns)"
   ]
  },
  {
   "cell_type": "markdown",
   "metadata": {},
   "source": [
    "### 5. Test your model\n",
    "Report the f1 score, precision and recall for each output category of the dataset. You can do this by iterating through the columns and calling sklearn's `classification_report` on each."
   ]
  },
  {
   "cell_type": "code",
   "execution_count": 9,
   "metadata": {},
   "outputs": [
    {
     "name": "stdout",
     "output_type": "stream",
     "text": [
      "                          precision    recall  f1-score   support\n",
      "\n",
      "               related-1       0.85      0.91      0.88      4995\n",
      "               request-0       0.81      0.42      0.56      1143\n",
      "                 offer-0       0.00      0.00      0.00        29\n",
      "           aid_related-0       0.74      0.60      0.67      2742\n",
      "          medical_help-0       0.52      0.06      0.11       552\n",
      "      medical_products-0       0.65      0.13      0.22       313\n",
      "     search_and_rescue-0       0.65      0.07      0.12       169\n",
      "              security-0       0.33      0.01      0.02       113\n",
      "              military-0       0.74      0.09      0.15       198\n",
      "           child_alone-0       0.00      0.00      0.00         0\n",
      "                 water-0       0.79      0.23      0.36       425\n",
      "                  food-0       0.85      0.41      0.56       743\n",
      "               shelter-0       0.79      0.37      0.50       592\n",
      "              clothing-0       0.71      0.11      0.19        91\n",
      "                 money-0       0.83      0.03      0.06       166\n",
      "        missing_people-0       0.00      0.00      0.00        83\n",
      "              refugees-0       0.65      0.06      0.12       236\n",
      "                 death-0       0.86      0.14      0.24       307\n",
      "             other_aid-0       0.50      0.05      0.09       889\n",
      "infrastructure_related-0       0.22      0.00      0.01       415\n",
      "             transport-0       0.63      0.08      0.14       314\n",
      "             buildings-0       0.69      0.16      0.26       323\n",
      "           electricity-0       0.50      0.05      0.10       131\n",
      "                 tools-0       0.00      0.00      0.00        48\n",
      "             hospitals-0       0.00      0.00      0.00        71\n",
      "                 shops-0       0.00      0.00      0.00        27\n",
      "           aid_centers-0       0.00      0.00      0.00        85\n",
      "  other_infrastructure-0       0.12      0.00      0.01       276\n",
      "       weather_related-0       0.85      0.57      0.68      1851\n",
      "                floods-0       0.91      0.37      0.53       552\n",
      "                 storm-0       0.76      0.43      0.55       600\n",
      "                  fire-0       0.50      0.01      0.03        72\n",
      "            earthquake-0       0.90      0.75      0.82       635\n",
      "                  cold-0       0.69      0.07      0.12       134\n",
      "         other_weather-0       0.58      0.07      0.13       353\n",
      "         direct_report-0       0.74      0.33      0.46      1281\n",
      "\n",
      "             avg / total       0.74      0.48      0.54     20954\n",
      "\n"
     ]
    },
    {
     "name": "stderr",
     "output_type": "stream",
     "text": [
      "/opt/conda/lib/python3.6/site-packages/sklearn/metrics/classification.py:1135: UndefinedMetricWarning: Precision and F-score are ill-defined and being set to 0.0 in labels with no predicted samples.\n",
      "  'precision', 'predicted', average, warn_for)\n",
      "/opt/conda/lib/python3.6/site-packages/sklearn/metrics/classification.py:1137: UndefinedMetricWarning: Recall and F-score are ill-defined and being set to 0.0 in labels with no true samples.\n",
      "  'recall', 'true', average, warn_for)\n"
     ]
    }
   ],
   "source": [
    "target_names = y_test.columns\n",
    "print(classification_report(y_test, y_pred, target_names=target_names))"
   ]
  },
  {
   "cell_type": "markdown",
   "metadata": {},
   "source": [
    "### 6. Improve your model\n",
    "Use grid search to find better parameters. "
   ]
  },
  {
   "cell_type": "code",
   "execution_count": 10,
   "metadata": {},
   "outputs": [
    {
     "data": {
      "text/plain": [
       "{'memory': None,\n",
       " 'steps': [('vect',\n",
       "   CountVectorizer(analyzer='word', binary=False, decode_error='strict',\n",
       "           dtype=<class 'numpy.int64'>, encoding='utf-8', input='content',\n",
       "           lowercase=True, max_df=1.0, max_features=None, min_df=1,\n",
       "           ngram_range=(1, 1), preprocessor=None, stop_words=None,\n",
       "           strip_accents=None, token_pattern='(?u)\\\\b\\\\w\\\\w+\\\\b',\n",
       "           tokenizer=<function tokenize at 0x7fc4fdd7ec80>, vocabulary=None)),\n",
       "  ('tfidf',\n",
       "   TfidfTransformer(norm='l2', smooth_idf=True, sublinear_tf=False, use_idf=True)),\n",
       "  ('clf',\n",
       "   MultiOutputClassifier(estimator=RandomForestClassifier(bootstrap=True, class_weight=None, criterion='gini',\n",
       "               max_depth=None, max_features='auto', max_leaf_nodes=None,\n",
       "               min_impurity_decrease=0.0, min_impurity_split=None,\n",
       "               min_samples_leaf=1, min_samples_split=2,\n",
       "               min_weight_fraction_leaf=0.0, n_estimators=10, n_jobs=1,\n",
       "               oob_score=False, random_state=None, verbose=0,\n",
       "               warm_start=False),\n",
       "              n_jobs=1))],\n",
       " 'vect': CountVectorizer(analyzer='word', binary=False, decode_error='strict',\n",
       "         dtype=<class 'numpy.int64'>, encoding='utf-8', input='content',\n",
       "         lowercase=True, max_df=1.0, max_features=None, min_df=1,\n",
       "         ngram_range=(1, 1), preprocessor=None, stop_words=None,\n",
       "         strip_accents=None, token_pattern='(?u)\\\\b\\\\w\\\\w+\\\\b',\n",
       "         tokenizer=<function tokenize at 0x7fc4fdd7ec80>, vocabulary=None),\n",
       " 'tfidf': TfidfTransformer(norm='l2', smooth_idf=True, sublinear_tf=False, use_idf=True),\n",
       " 'clf': MultiOutputClassifier(estimator=RandomForestClassifier(bootstrap=True, class_weight=None, criterion='gini',\n",
       "             max_depth=None, max_features='auto', max_leaf_nodes=None,\n",
       "             min_impurity_decrease=0.0, min_impurity_split=None,\n",
       "             min_samples_leaf=1, min_samples_split=2,\n",
       "             min_weight_fraction_leaf=0.0, n_estimators=10, n_jobs=1,\n",
       "             oob_score=False, random_state=None, verbose=0,\n",
       "             warm_start=False),\n",
       "            n_jobs=1),\n",
       " 'vect__analyzer': 'word',\n",
       " 'vect__binary': False,\n",
       " 'vect__decode_error': 'strict',\n",
       " 'vect__dtype': numpy.int64,\n",
       " 'vect__encoding': 'utf-8',\n",
       " 'vect__input': 'content',\n",
       " 'vect__lowercase': True,\n",
       " 'vect__max_df': 1.0,\n",
       " 'vect__max_features': None,\n",
       " 'vect__min_df': 1,\n",
       " 'vect__ngram_range': (1, 1),\n",
       " 'vect__preprocessor': None,\n",
       " 'vect__stop_words': None,\n",
       " 'vect__strip_accents': None,\n",
       " 'vect__token_pattern': '(?u)\\\\b\\\\w\\\\w+\\\\b',\n",
       " 'vect__tokenizer': <function __main__.tokenize(text)>,\n",
       " 'vect__vocabulary': None,\n",
       " 'tfidf__norm': 'l2',\n",
       " 'tfidf__smooth_idf': True,\n",
       " 'tfidf__sublinear_tf': False,\n",
       " 'tfidf__use_idf': True,\n",
       " 'clf__estimator__bootstrap': True,\n",
       " 'clf__estimator__class_weight': None,\n",
       " 'clf__estimator__criterion': 'gini',\n",
       " 'clf__estimator__max_depth': None,\n",
       " 'clf__estimator__max_features': 'auto',\n",
       " 'clf__estimator__max_leaf_nodes': None,\n",
       " 'clf__estimator__min_impurity_decrease': 0.0,\n",
       " 'clf__estimator__min_impurity_split': None,\n",
       " 'clf__estimator__min_samples_leaf': 1,\n",
       " 'clf__estimator__min_samples_split': 2,\n",
       " 'clf__estimator__min_weight_fraction_leaf': 0.0,\n",
       " 'clf__estimator__n_estimators': 10,\n",
       " 'clf__estimator__n_jobs': 1,\n",
       " 'clf__estimator__oob_score': False,\n",
       " 'clf__estimator__random_state': None,\n",
       " 'clf__estimator__verbose': 0,\n",
       " 'clf__estimator__warm_start': False,\n",
       " 'clf__estimator': RandomForestClassifier(bootstrap=True, class_weight=None, criterion='gini',\n",
       "             max_depth=None, max_features='auto', max_leaf_nodes=None,\n",
       "             min_impurity_decrease=0.0, min_impurity_split=None,\n",
       "             min_samples_leaf=1, min_samples_split=2,\n",
       "             min_weight_fraction_leaf=0.0, n_estimators=10, n_jobs=1,\n",
       "             oob_score=False, random_state=None, verbose=0,\n",
       "             warm_start=False),\n",
       " 'clf__n_jobs': 1}"
      ]
     },
     "execution_count": 10,
     "metadata": {},
     "output_type": "execute_result"
    }
   ],
   "source": [
    "pipeline.get_params()"
   ]
  },
  {
   "cell_type": "code",
   "execution_count": 11,
   "metadata": {},
   "outputs": [
    {
     "data": {
      "text/plain": [
       "GridSearchCV(cv=None, error_score='raise',\n",
       "       estimator=Pipeline(memory=None,\n",
       "     steps=[('vect', CountVectorizer(analyzer='word', binary=False, decode_error='strict',\n",
       "        dtype=<class 'numpy.int64'>, encoding='utf-8', input='content',\n",
       "        lowercase=True, max_df=1.0, max_features=None, min_df=1,\n",
       "        ngram_range=(1, 1), preprocessor=None, stop_words=None,\n",
       "        strip...oob_score=False, random_state=None, verbose=0,\n",
       "            warm_start=False),\n",
       "           n_jobs=1))]),\n",
       "       fit_params=None, iid=True, n_jobs=1,\n",
       "       param_grid={'clf__estimator__max_depth': [10], 'clf__estimator__min_samples_leaf': [2, 5], 'clf__estimator__min_samples_split': [2, 4]},\n",
       "       pre_dispatch='2*n_jobs', refit=True, return_train_score='warn',\n",
       "       scoring=None, verbose=0)"
      ]
     },
     "execution_count": 11,
     "metadata": {},
     "output_type": "execute_result"
    }
   ],
   "source": [
    "parameters = {'clf__estimator__max_depth': [10],\n",
    "              'clf__estimator__min_samples_leaf':[2, 5],\n",
    "             'clf__estimator__min_samples_split': [2, 4],}\n",
    "\n",
    "cv = GridSearchCV(pipeline, parameters)\n",
    "cv"
   ]
  },
  {
   "cell_type": "markdown",
   "metadata": {},
   "source": [
    "### 7. Test your model\n",
    "Show the accuracy, precision, and recall of the tuned model.  \n",
    "\n",
    "Since this project focuses on code quality, process, and  pipelines, there is no minimum performance metric needed to pass. However, make sure to fine tune your models for accuracy, precision and recall to make your project stand out - especially for your portfolio!"
   ]
  },
  {
   "cell_type": "code",
   "execution_count": 12,
   "metadata": {},
   "outputs": [
    {
     "name": "stdout",
     "output_type": "stream",
     "text": [
      "Fitting 3 folds for each of 4 candidates, totalling 12 fits\n",
      "[CV] clf__estimator__max_depth=10, clf__estimator__min_samples_leaf=2, clf__estimator__min_samples_split=2 \n",
      "[CV]  clf__estimator__max_depth=10, clf__estimator__min_samples_leaf=2, clf__estimator__min_samples_split=2, total= 1.9min\n",
      "[CV] clf__estimator__max_depth=10, clf__estimator__min_samples_leaf=2, clf__estimator__min_samples_split=2 \n"
     ]
    },
    {
     "name": "stderr",
     "output_type": "stream",
     "text": [
      "[Parallel(n_jobs=1)]: Done   1 out of   1 | elapsed:  3.1min remaining:    0.0s\n"
     ]
    },
    {
     "name": "stdout",
     "output_type": "stream",
     "text": [
      "[CV]  clf__estimator__max_depth=10, clf__estimator__min_samples_leaf=2, clf__estimator__min_samples_split=2, total= 1.9min\n",
      "[CV] clf__estimator__max_depth=10, clf__estimator__min_samples_leaf=2, clf__estimator__min_samples_split=2 \n",
      "[CV]  clf__estimator__max_depth=10, clf__estimator__min_samples_leaf=2, clf__estimator__min_samples_split=2, total= 1.9min\n",
      "[CV] clf__estimator__max_depth=10, clf__estimator__min_samples_leaf=2, clf__estimator__min_samples_split=4 \n",
      "[CV]  clf__estimator__max_depth=10, clf__estimator__min_samples_leaf=2, clf__estimator__min_samples_split=4, total= 1.9min\n",
      "[CV] clf__estimator__max_depth=10, clf__estimator__min_samples_leaf=2, clf__estimator__min_samples_split=4 \n",
      "[CV]  clf__estimator__max_depth=10, clf__estimator__min_samples_leaf=2, clf__estimator__min_samples_split=4, total= 1.9min\n",
      "[CV] clf__estimator__max_depth=10, clf__estimator__min_samples_leaf=2, clf__estimator__min_samples_split=4 \n",
      "[CV]  clf__estimator__max_depth=10, clf__estimator__min_samples_leaf=2, clf__estimator__min_samples_split=4, total= 1.9min\n",
      "[CV] clf__estimator__max_depth=10, clf__estimator__min_samples_leaf=5, clf__estimator__min_samples_split=2 \n",
      "[CV]  clf__estimator__max_depth=10, clf__estimator__min_samples_leaf=5, clf__estimator__min_samples_split=2, total= 1.9min\n",
      "[CV] clf__estimator__max_depth=10, clf__estimator__min_samples_leaf=5, clf__estimator__min_samples_split=2 \n",
      "[CV]  clf__estimator__max_depth=10, clf__estimator__min_samples_leaf=5, clf__estimator__min_samples_split=2, total= 1.9min\n",
      "[CV] clf__estimator__max_depth=10, clf__estimator__min_samples_leaf=5, clf__estimator__min_samples_split=2 \n",
      "[CV]  clf__estimator__max_depth=10, clf__estimator__min_samples_leaf=5, clf__estimator__min_samples_split=2, total= 1.9min\n",
      "[CV] clf__estimator__max_depth=10, clf__estimator__min_samples_leaf=5, clf__estimator__min_samples_split=4 \n",
      "[CV]  clf__estimator__max_depth=10, clf__estimator__min_samples_leaf=5, clf__estimator__min_samples_split=4, total= 1.9min\n",
      "[CV] clf__estimator__max_depth=10, clf__estimator__min_samples_leaf=5, clf__estimator__min_samples_split=4 \n",
      "[CV]  clf__estimator__max_depth=10, clf__estimator__min_samples_leaf=5, clf__estimator__min_samples_split=4, total= 1.9min\n",
      "[CV] clf__estimator__max_depth=10, clf__estimator__min_samples_leaf=5, clf__estimator__min_samples_split=4 \n",
      "[CV]  clf__estimator__max_depth=10, clf__estimator__min_samples_leaf=5, clf__estimator__min_samples_split=4, total= 1.9min\n"
     ]
    },
    {
     "name": "stderr",
     "output_type": "stream",
     "text": [
      "[Parallel(n_jobs=1)]: Done  12 out of  12 | elapsed: 37.7min finished\n"
     ]
    }
   ],
   "source": [
    "cv = GridSearchCV(pipeline, param_grid = parameters,verbose = 2)\n",
    "np.random.seed(42)\n",
    "y_pred2 = cv.fit(X_train, y_train)\n",
    "prediction2 = y_pred2.predict(X_test)"
   ]
  },
  {
   "cell_type": "code",
   "execution_count": 13,
   "metadata": {},
   "outputs": [
    {
     "name": "stdout",
     "output_type": "stream",
     "text": [
      "                          precision    recall  f1-score   support\n",
      "\n",
      "               related-1       0.77      1.00      0.87      4995\n",
      "               request-0       0.00      0.00      0.00      1143\n",
      "                 offer-0       0.00      0.00      0.00        29\n",
      "           aid_related-0       0.88      0.11      0.20      2742\n",
      "          medical_help-0       0.00      0.00      0.00       552\n",
      "      medical_products-0       0.00      0.00      0.00       313\n",
      "     search_and_rescue-0       0.00      0.00      0.00       169\n",
      "              security-0       0.00      0.00      0.00       113\n",
      "              military-0       0.00      0.00      0.00       198\n",
      "           child_alone-0       0.00      0.00      0.00         0\n",
      "                 water-0       0.00      0.00      0.00       425\n",
      "                  food-0       0.00      0.00      0.00       743\n",
      "               shelter-0       0.00      0.00      0.00       592\n",
      "              clothing-0       0.00      0.00      0.00        91\n",
      "                 money-0       0.00      0.00      0.00       166\n",
      "        missing_people-0       0.00      0.00      0.00        83\n",
      "              refugees-0       0.00      0.00      0.00       236\n",
      "                 death-0       0.00      0.00      0.00       307\n",
      "             other_aid-0       0.00      0.00      0.00       889\n",
      "infrastructure_related-0       0.00      0.00      0.00       415\n",
      "             transport-0       1.00      0.00      0.01       314\n",
      "             buildings-0       0.00      0.00      0.00       323\n",
      "           electricity-0       0.00      0.00      0.00       131\n",
      "                 tools-0       0.00      0.00      0.00        48\n",
      "             hospitals-0       0.00      0.00      0.00        71\n",
      "                 shops-0       0.00      0.00      0.00        27\n",
      "           aid_centers-0       0.00      0.00      0.00        85\n",
      "  other_infrastructure-0       0.00      0.00      0.00       276\n",
      "       weather_related-0       0.95      0.03      0.06      1851\n",
      "                floods-0       0.90      0.02      0.03       552\n",
      "                 storm-0       1.00      0.01      0.02       600\n",
      "                  fire-0       0.00      0.00      0.00        72\n",
      "            earthquake-0       0.00      0.00      0.00       635\n",
      "                  cold-0       0.00      0.00      0.00       134\n",
      "         other_weather-0       0.00      0.00      0.00       353\n",
      "         direct_report-0       1.00      0.00      0.00      1281\n",
      "\n",
      "             avg / total       0.51      0.26      0.24     20954\n",
      "\n"
     ]
    },
    {
     "name": "stderr",
     "output_type": "stream",
     "text": [
      "/opt/conda/lib/python3.6/site-packages/sklearn/metrics/classification.py:1135: UndefinedMetricWarning: Precision and F-score are ill-defined and being set to 0.0 in labels with no predicted samples.\n",
      "  'precision', 'predicted', average, warn_for)\n",
      "/opt/conda/lib/python3.6/site-packages/sklearn/metrics/classification.py:1137: UndefinedMetricWarning: Recall and F-score are ill-defined and being set to 0.0 in labels with no true samples.\n",
      "  'recall', 'true', average, warn_for)\n"
     ]
    }
   ],
   "source": [
    "print(classification_report(y_test, prediction2 , target_names = target_names))"
   ]
  },
  {
   "cell_type": "markdown",
   "metadata": {},
   "source": [
    "### 8. Try improving your model further. Here are a few ideas:\n",
    "* try other machine learning algorithms\n",
    "* add other features besides the TF-IDF"
   ]
  },
  {
   "cell_type": "code",
   "execution_count": null,
   "metadata": {},
   "outputs": [],
   "source": []
  },
  {
   "cell_type": "markdown",
   "metadata": {},
   "source": [
    "### 9. Export your model as a pickle file"
   ]
  },
  {
   "cell_type": "code",
   "execution_count": null,
   "metadata": {},
   "outputs": [],
   "source": []
  },
  {
   "cell_type": "markdown",
   "metadata": {},
   "source": [
    "### 10. Use this notebook to complete `train.py`\n",
    "Use the template file attached in the Resources folder to write a script that runs the steps above to create a database and export a model based on a new dataset specified by the user."
   ]
  },
  {
   "cell_type": "code",
   "execution_count": null,
   "metadata": {},
   "outputs": [],
   "source": [
    "import sys\n",
    "import nltk\n",
    "import re\n",
    "nltk.download('punkt')\n",
    "nltk.download('stopwords')\n",
    "nltk.download('words')\n",
    "nltk.download('averaged_perceptron_tagger')\n",
    "nltk.download('maxent_ne_chunker')\n",
    "nltk.download('wordnet')\n",
    "import pandas as pd\n",
    "import numpy as np\n",
    "import string\n",
    "from nltk import pos_tag, ne_chunk\n",
    "from sqlalchemy import create_engine\n",
    "from nltk.tokenize import word_tokenize\n",
    "from nltk.corpus import stopwords\n",
    "from nltk.stem.porter import PorterStemmer\n",
    "from nltk.stem.wordnet import WordNetLemmatizer\n",
    "from sklearn.feature_extraction.text import CountVectorizer, TfidfTransformer\n",
    "from sklearn.ensemble import RandomForestClassifier\n",
    "from sklearn.pipeline import Pipeline\n",
    "from sklearn.model_selection import train_test_split\n",
    "from sklearn.metrics import confusion_matrix\n",
    "from sklearn.datasets import make_multilabel_classification\n",
    "from sklearn.multioutput import MultiOutputClassifier\n",
    "from sklearn.neighbors import KNeighborsClassifier\n",
    "from sklearn.metrics import classification_report\n",
    "from sklearn.model_selection import GridSearchCV\n",
    "import pickle\n",
    "\n",
    "\n",
    "def load_data(database_filepath):\n",
    "\n",
    "    engine = create_engine('sqlite:///' + database_filepath)\n",
    "    df = pd.read_sql_table('DisasterResponse', engine) \n",
    "    X = df['message']\n",
    "    y = df.drop(['id','message','original','genre'],axis=1)\n",
    "    category_names = y.columns\n",
    "    \n",
    "    return X, y, category_names\n",
    "\n",
    "\n",
    "def tokenize(text):\n",
    "    #remove punctuation characters\n",
    "    text = text.translate(str.maketrans('', '', string.punctuation))\n",
    "    #lemmatize, convert to lowercase, remove leading/trailing white space\n",
    "    lemmatizer = WordNetLemmatizer()\n",
    "    text = lemmatizer.lemmatize(text).lower().strip()\n",
    "    #tokenize\n",
    "    words = word_tokenize(text)\n",
    "    #stop words removal\n",
    "    words = [w for w in words if w not in stopwords.words(\"english\")]\n",
    "    #Stemming\n",
    "    words = [PorterStemmer().stem(w) for w in words]\n",
    "    clean_tokens = []\n",
    "    for tok in words:\n",
    "        clean_tokens.append(tok)\n",
    "    return clean_tokens\n",
    "\n",
    "\n",
    "def build_model():\n",
    "    pipeline = Pipeline([('vect',CountVectorizer(tokenizer=tokenize)),\n",
    "                     ('tfidf',TfidfTransformer()),\n",
    "                     ('clf',MultiOutputClassifier(RandomForestClassifier())),\n",
    "                    ])\n",
    "    \n",
    "    return pipeline\n",
    "\n",
    "def evaluate_model(model, X_test, Y_test, category_names):\n",
    "    \n",
    "    #predict on test data\n",
    "    y_pred = model.predict(X_test)\n",
    "    \n",
    "    print(classification_report(Y_test, y_pred, target_names=category_names))\n",
    "\n",
    "\n",
    "def save_model(model, model_filepath):\n",
    "    \n",
    "    pickle.dump(model,open(model_filepath,'wb'))\n",
    "\n",
    "\n",
    "def main():\n",
    "    if len(sys.argv) == 3:\n",
    "        database_filepath, model_filepath = sys.argv[1:]\n",
    "        print('Loading data...\\n    DATABASE: {}'.format(database_filepath))\n",
    "        X, Y, category_names = load_data(database_filepath)\n",
    "        X_train, X_test, Y_train, Y_test = train_test_split(X, Y, test_size=0.2)\n",
    "        \n",
    "        print('Building model...')\n",
    "        model = build_model()\n",
    "        \n",
    "        print('Training model...')\n",
    "        model.fit(X_train, Y_train)\n",
    "        \n",
    "        print('Evaluating model...')\n",
    "        evaluate_model(model, X_test, Y_test, category_names)\n",
    "\n",
    "        print('Saving model...\\n    MODEL: {}'.format(model_filepath))\n",
    "        save_model(model, model_filepath)\n",
    "\n",
    "        print('Trained model saved!')\n",
    "\n",
    "    else:\n",
    "        print('Please provide the filepath of the disaster messages database '\\\n",
    "              'as the first argument and the filepath of the pickle file to '\\\n",
    "              'save the model to as the second argument. \\n\\nExample: python '\\\n",
    "              'train_classifier.py ../data/DisasterResponse.db classifier.pkl')\n",
    "\n",
    "\n",
    "if __name__ == '__main__':\n",
    "    main()"
   ]
  }
 ],
 "metadata": {
  "kernelspec": {
   "display_name": "Python 3",
   "language": "python",
   "name": "python3"
  },
  "language_info": {
   "codemirror_mode": {
    "name": "ipython",
    "version": 3
   },
   "file_extension": ".py",
   "mimetype": "text/x-python",
   "name": "python",
   "nbconvert_exporter": "python",
   "pygments_lexer": "ipython3",
   "version": "3.6.3"
  }
 },
 "nbformat": 4,
 "nbformat_minor": 2
}
